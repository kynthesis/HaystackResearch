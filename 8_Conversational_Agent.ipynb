{
  "nbformat": 4,
  "nbformat_minor": 0,
  "metadata": {
    "colab": {
      "provenance": [],
      "machine_shape": "hm",
      "gpuType": "A100",
      "authorship_tag": "ABX9TyOsuyCL/yGJ03CD24etDv2y",
      "include_colab_link": true
    },
    "kernelspec": {
      "name": "python3",
      "display_name": "Python 3"
    },
    "language_info": {
      "name": "python"
    },
    "accelerator": "GPU",
    "widgets": {
      "application/vnd.jupyter.widget-state+json": {
        "df5dd8922a9e4f29b0a7e51dd9e257e6": {
          "model_module": "@jupyter-widgets/controls",
          "model_name": "HBoxModel",
          "model_module_version": "1.5.0",
          "state": {
            "_dom_classes": [],
            "_model_module": "@jupyter-widgets/controls",
            "_model_module_version": "1.5.0",
            "_model_name": "HBoxModel",
            "_view_count": null,
            "_view_module": "@jupyter-widgets/controls",
            "_view_module_version": "1.5.0",
            "_view_name": "HBoxView",
            "box_style": "",
            "children": [
              "IPY_MODEL_3ae51a6d393e40e295aefff578834473",
              "IPY_MODEL_16fdb98ab89a41f5ba1eb5cbe345491f",
              "IPY_MODEL_4b647c192b3d48f0b38b451e8e0f506d"
            ],
            "layout": "IPY_MODEL_aa83c6ba898b484aa6db6e18273584eb"
          }
        },
        "3ae51a6d393e40e295aefff578834473": {
          "model_module": "@jupyter-widgets/controls",
          "model_name": "HTMLModel",
          "model_module_version": "1.5.0",
          "state": {
            "_dom_classes": [],
            "_model_module": "@jupyter-widgets/controls",
            "_model_module_version": "1.5.0",
            "_model_name": "HTMLModel",
            "_view_count": null,
            "_view_module": "@jupyter-widgets/controls",
            "_view_module_version": "1.5.0",
            "_view_name": "HTMLView",
            "description": "",
            "description_tooltip": null,
            "layout": "IPY_MODEL_b4adcdad1c804073913dfe9af4b4ac5c",
            "placeholder": "​",
            "style": "IPY_MODEL_61ddc8fe8f24410b80c5fe58f6af0dd4",
            "value": "Downloading (…)okenizer_config.json: 100%"
          }
        },
        "16fdb98ab89a41f5ba1eb5cbe345491f": {
          "model_module": "@jupyter-widgets/controls",
          "model_name": "FloatProgressModel",
          "model_module_version": "1.5.0",
          "state": {
            "_dom_classes": [],
            "_model_module": "@jupyter-widgets/controls",
            "_model_module_version": "1.5.0",
            "_model_name": "FloatProgressModel",
            "_view_count": null,
            "_view_module": "@jupyter-widgets/controls",
            "_view_module_version": "1.5.0",
            "_view_name": "ProgressView",
            "bar_style": "success",
            "description": "",
            "description_tooltip": null,
            "layout": "IPY_MODEL_20028076b0324eb3b86f8211425853a5",
            "max": 521,
            "min": 0,
            "orientation": "horizontal",
            "style": "IPY_MODEL_12da6e162e9745c987f5ce9575bc8aee",
            "value": 521
          }
        },
        "4b647c192b3d48f0b38b451e8e0f506d": {
          "model_module": "@jupyter-widgets/controls",
          "model_name": "HTMLModel",
          "model_module_version": "1.5.0",
          "state": {
            "_dom_classes": [],
            "_model_module": "@jupyter-widgets/controls",
            "_model_module_version": "1.5.0",
            "_model_name": "HTMLModel",
            "_view_count": null,
            "_view_module": "@jupyter-widgets/controls",
            "_view_module_version": "1.5.0",
            "_view_name": "HTMLView",
            "description": "",
            "description_tooltip": null,
            "layout": "IPY_MODEL_101726a1d031423f82c0cd1102dcfc27",
            "placeholder": "​",
            "style": "IPY_MODEL_669e7051b4ba4edfb64c7290a5ba94f5",
            "value": " 521/521 [00:00&lt;00:00, 41.6kB/s]"
          }
        },
        "aa83c6ba898b484aa6db6e18273584eb": {
          "model_module": "@jupyter-widgets/base",
          "model_name": "LayoutModel",
          "model_module_version": "1.2.0",
          "state": {
            "_model_module": "@jupyter-widgets/base",
            "_model_module_version": "1.2.0",
            "_model_name": "LayoutModel",
            "_view_count": null,
            "_view_module": "@jupyter-widgets/base",
            "_view_module_version": "1.2.0",
            "_view_name": "LayoutView",
            "align_content": null,
            "align_items": null,
            "align_self": null,
            "border": null,
            "bottom": null,
            "display": null,
            "flex": null,
            "flex_flow": null,
            "grid_area": null,
            "grid_auto_columns": null,
            "grid_auto_flow": null,
            "grid_auto_rows": null,
            "grid_column": null,
            "grid_gap": null,
            "grid_row": null,
            "grid_template_areas": null,
            "grid_template_columns": null,
            "grid_template_rows": null,
            "height": null,
            "justify_content": null,
            "justify_items": null,
            "left": null,
            "margin": null,
            "max_height": null,
            "max_width": null,
            "min_height": null,
            "min_width": null,
            "object_fit": null,
            "object_position": null,
            "order": null,
            "overflow": null,
            "overflow_x": null,
            "overflow_y": null,
            "padding": null,
            "right": null,
            "top": null,
            "visibility": null,
            "width": null
          }
        },
        "b4adcdad1c804073913dfe9af4b4ac5c": {
          "model_module": "@jupyter-widgets/base",
          "model_name": "LayoutModel",
          "model_module_version": "1.2.0",
          "state": {
            "_model_module": "@jupyter-widgets/base",
            "_model_module_version": "1.2.0",
            "_model_name": "LayoutModel",
            "_view_count": null,
            "_view_module": "@jupyter-widgets/base",
            "_view_module_version": "1.2.0",
            "_view_name": "LayoutView",
            "align_content": null,
            "align_items": null,
            "align_self": null,
            "border": null,
            "bottom": null,
            "display": null,
            "flex": null,
            "flex_flow": null,
            "grid_area": null,
            "grid_auto_columns": null,
            "grid_auto_flow": null,
            "grid_auto_rows": null,
            "grid_column": null,
            "grid_gap": null,
            "grid_row": null,
            "grid_template_areas": null,
            "grid_template_columns": null,
            "grid_template_rows": null,
            "height": null,
            "justify_content": null,
            "justify_items": null,
            "left": null,
            "margin": null,
            "max_height": null,
            "max_width": null,
            "min_height": null,
            "min_width": null,
            "object_fit": null,
            "object_position": null,
            "order": null,
            "overflow": null,
            "overflow_x": null,
            "overflow_y": null,
            "padding": null,
            "right": null,
            "top": null,
            "visibility": null,
            "width": null
          }
        },
        "61ddc8fe8f24410b80c5fe58f6af0dd4": {
          "model_module": "@jupyter-widgets/controls",
          "model_name": "DescriptionStyleModel",
          "model_module_version": "1.5.0",
          "state": {
            "_model_module": "@jupyter-widgets/controls",
            "_model_module_version": "1.5.0",
            "_model_name": "DescriptionStyleModel",
            "_view_count": null,
            "_view_module": "@jupyter-widgets/base",
            "_view_module_version": "1.2.0",
            "_view_name": "StyleView",
            "description_width": ""
          }
        },
        "20028076b0324eb3b86f8211425853a5": {
          "model_module": "@jupyter-widgets/base",
          "model_name": "LayoutModel",
          "model_module_version": "1.2.0",
          "state": {
            "_model_module": "@jupyter-widgets/base",
            "_model_module_version": "1.2.0",
            "_model_name": "LayoutModel",
            "_view_count": null,
            "_view_module": "@jupyter-widgets/base",
            "_view_module_version": "1.2.0",
            "_view_name": "LayoutView",
            "align_content": null,
            "align_items": null,
            "align_self": null,
            "border": null,
            "bottom": null,
            "display": null,
            "flex": null,
            "flex_flow": null,
            "grid_area": null,
            "grid_auto_columns": null,
            "grid_auto_flow": null,
            "grid_auto_rows": null,
            "grid_column": null,
            "grid_gap": null,
            "grid_row": null,
            "grid_template_areas": null,
            "grid_template_columns": null,
            "grid_template_rows": null,
            "height": null,
            "justify_content": null,
            "justify_items": null,
            "left": null,
            "margin": null,
            "max_height": null,
            "max_width": null,
            "min_height": null,
            "min_width": null,
            "object_fit": null,
            "object_position": null,
            "order": null,
            "overflow": null,
            "overflow_x": null,
            "overflow_y": null,
            "padding": null,
            "right": null,
            "top": null,
            "visibility": null,
            "width": null
          }
        },
        "12da6e162e9745c987f5ce9575bc8aee": {
          "model_module": "@jupyter-widgets/controls",
          "model_name": "ProgressStyleModel",
          "model_module_version": "1.5.0",
          "state": {
            "_model_module": "@jupyter-widgets/controls",
            "_model_module_version": "1.5.0",
            "_model_name": "ProgressStyleModel",
            "_view_count": null,
            "_view_module": "@jupyter-widgets/base",
            "_view_module_version": "1.2.0",
            "_view_name": "StyleView",
            "bar_color": null,
            "description_width": ""
          }
        },
        "101726a1d031423f82c0cd1102dcfc27": {
          "model_module": "@jupyter-widgets/base",
          "model_name": "LayoutModel",
          "model_module_version": "1.2.0",
          "state": {
            "_model_module": "@jupyter-widgets/base",
            "_model_module_version": "1.2.0",
            "_model_name": "LayoutModel",
            "_view_count": null,
            "_view_module": "@jupyter-widgets/base",
            "_view_module_version": "1.2.0",
            "_view_name": "LayoutView",
            "align_content": null,
            "align_items": null,
            "align_self": null,
            "border": null,
            "bottom": null,
            "display": null,
            "flex": null,
            "flex_flow": null,
            "grid_area": null,
            "grid_auto_columns": null,
            "grid_auto_flow": null,
            "grid_auto_rows": null,
            "grid_column": null,
            "grid_gap": null,
            "grid_row": null,
            "grid_template_areas": null,
            "grid_template_columns": null,
            "grid_template_rows": null,
            "height": null,
            "justify_content": null,
            "justify_items": null,
            "left": null,
            "margin": null,
            "max_height": null,
            "max_width": null,
            "min_height": null,
            "min_width": null,
            "object_fit": null,
            "object_position": null,
            "order": null,
            "overflow": null,
            "overflow_x": null,
            "overflow_y": null,
            "padding": null,
            "right": null,
            "top": null,
            "visibility": null,
            "width": null
          }
        },
        "669e7051b4ba4edfb64c7290a5ba94f5": {
          "model_module": "@jupyter-widgets/controls",
          "model_name": "DescriptionStyleModel",
          "model_module_version": "1.5.0",
          "state": {
            "_model_module": "@jupyter-widgets/controls",
            "_model_module_version": "1.5.0",
            "_model_name": "DescriptionStyleModel",
            "_view_count": null,
            "_view_module": "@jupyter-widgets/base",
            "_view_module_version": "1.2.0",
            "_view_name": "StyleView",
            "description_width": ""
          }
        },
        "7630f09a14ad4a5389810bb2dde2975b": {
          "model_module": "@jupyter-widgets/controls",
          "model_name": "HBoxModel",
          "model_module_version": "1.5.0",
          "state": {
            "_dom_classes": [],
            "_model_module": "@jupyter-widgets/controls",
            "_model_module_version": "1.5.0",
            "_model_name": "HBoxModel",
            "_view_count": null,
            "_view_module": "@jupyter-widgets/controls",
            "_view_module_version": "1.5.0",
            "_view_name": "HBoxView",
            "box_style": "",
            "children": [
              "IPY_MODEL_bf4758e3b0f54c878c6bbe85a4b00c1f",
              "IPY_MODEL_7cc3301adbd74dc5ad2d6efc1a9f394a",
              "IPY_MODEL_96cb0369a2cb4bd88bcfda65e08fe4c3"
            ],
            "layout": "IPY_MODEL_b4e5b5529ec443af8fbe33c47f184f43"
          }
        },
        "bf4758e3b0f54c878c6bbe85a4b00c1f": {
          "model_module": "@jupyter-widgets/controls",
          "model_name": "HTMLModel",
          "model_module_version": "1.5.0",
          "state": {
            "_dom_classes": [],
            "_model_module": "@jupyter-widgets/controls",
            "_model_module_version": "1.5.0",
            "_model_name": "HTMLModel",
            "_view_count": null,
            "_view_module": "@jupyter-widgets/controls",
            "_view_module_version": "1.5.0",
            "_view_name": "HTMLView",
            "description": "",
            "description_tooltip": null,
            "layout": "IPY_MODEL_7fed91ecebce4c3b926fd9aa5120535c",
            "placeholder": "​",
            "style": "IPY_MODEL_e0bf5041949c4f1baea689e215c1aeb9",
            "value": "Downloading (…)/main/tokenizer.json: 100%"
          }
        },
        "7cc3301adbd74dc5ad2d6efc1a9f394a": {
          "model_module": "@jupyter-widgets/controls",
          "model_name": "FloatProgressModel",
          "model_module_version": "1.5.0",
          "state": {
            "_dom_classes": [],
            "_model_module": "@jupyter-widgets/controls",
            "_model_module_version": "1.5.0",
            "_model_name": "FloatProgressModel",
            "_view_count": null,
            "_view_module": "@jupyter-widgets/controls",
            "_view_module_version": "1.5.0",
            "_view_name": "ProgressView",
            "bar_style": "success",
            "description": "",
            "description_tooltip": null,
            "layout": "IPY_MODEL_deb6571e3d374d4690da631b81b9e383",
            "max": 2114655,
            "min": 0,
            "orientation": "horizontal",
            "style": "IPY_MODEL_32fa6b70c0184aaa8cbbf927bfd462ef",
            "value": 2114655
          }
        },
        "96cb0369a2cb4bd88bcfda65e08fe4c3": {
          "model_module": "@jupyter-widgets/controls",
          "model_name": "HTMLModel",
          "model_module_version": "1.5.0",
          "state": {
            "_dom_classes": [],
            "_model_module": "@jupyter-widgets/controls",
            "_model_module_version": "1.5.0",
            "_model_name": "HTMLModel",
            "_view_count": null,
            "_view_module": "@jupyter-widgets/controls",
            "_view_module_version": "1.5.0",
            "_view_name": "HTMLView",
            "description": "",
            "description_tooltip": null,
            "layout": "IPY_MODEL_6e41c0e20f6244caaa6ea0477dc0786f",
            "placeholder": "​",
            "style": "IPY_MODEL_deb022fd23ba43409295921853f7f751",
            "value": " 2.11M/2.11M [00:01&lt;00:00, 1.93MB/s]"
          }
        },
        "b4e5b5529ec443af8fbe33c47f184f43": {
          "model_module": "@jupyter-widgets/base",
          "model_name": "LayoutModel",
          "model_module_version": "1.2.0",
          "state": {
            "_model_module": "@jupyter-widgets/base",
            "_model_module_version": "1.2.0",
            "_model_name": "LayoutModel",
            "_view_count": null,
            "_view_module": "@jupyter-widgets/base",
            "_view_module_version": "1.2.0",
            "_view_name": "LayoutView",
            "align_content": null,
            "align_items": null,
            "align_self": null,
            "border": null,
            "bottom": null,
            "display": null,
            "flex": null,
            "flex_flow": null,
            "grid_area": null,
            "grid_auto_columns": null,
            "grid_auto_flow": null,
            "grid_auto_rows": null,
            "grid_column": null,
            "grid_gap": null,
            "grid_row": null,
            "grid_template_areas": null,
            "grid_template_columns": null,
            "grid_template_rows": null,
            "height": null,
            "justify_content": null,
            "justify_items": null,
            "left": null,
            "margin": null,
            "max_height": null,
            "max_width": null,
            "min_height": null,
            "min_width": null,
            "object_fit": null,
            "object_position": null,
            "order": null,
            "overflow": null,
            "overflow_x": null,
            "overflow_y": null,
            "padding": null,
            "right": null,
            "top": null,
            "visibility": null,
            "width": null
          }
        },
        "7fed91ecebce4c3b926fd9aa5120535c": {
          "model_module": "@jupyter-widgets/base",
          "model_name": "LayoutModel",
          "model_module_version": "1.2.0",
          "state": {
            "_model_module": "@jupyter-widgets/base",
            "_model_module_version": "1.2.0",
            "_model_name": "LayoutModel",
            "_view_count": null,
            "_view_module": "@jupyter-widgets/base",
            "_view_module_version": "1.2.0",
            "_view_name": "LayoutView",
            "align_content": null,
            "align_items": null,
            "align_self": null,
            "border": null,
            "bottom": null,
            "display": null,
            "flex": null,
            "flex_flow": null,
            "grid_area": null,
            "grid_auto_columns": null,
            "grid_auto_flow": null,
            "grid_auto_rows": null,
            "grid_column": null,
            "grid_gap": null,
            "grid_row": null,
            "grid_template_areas": null,
            "grid_template_columns": null,
            "grid_template_rows": null,
            "height": null,
            "justify_content": null,
            "justify_items": null,
            "left": null,
            "margin": null,
            "max_height": null,
            "max_width": null,
            "min_height": null,
            "min_width": null,
            "object_fit": null,
            "object_position": null,
            "order": null,
            "overflow": null,
            "overflow_x": null,
            "overflow_y": null,
            "padding": null,
            "right": null,
            "top": null,
            "visibility": null,
            "width": null
          }
        },
        "e0bf5041949c4f1baea689e215c1aeb9": {
          "model_module": "@jupyter-widgets/controls",
          "model_name": "DescriptionStyleModel",
          "model_module_version": "1.5.0",
          "state": {
            "_model_module": "@jupyter-widgets/controls",
            "_model_module_version": "1.5.0",
            "_model_name": "DescriptionStyleModel",
            "_view_count": null,
            "_view_module": "@jupyter-widgets/base",
            "_view_module_version": "1.2.0",
            "_view_name": "StyleView",
            "description_width": ""
          }
        },
        "deb6571e3d374d4690da631b81b9e383": {
          "model_module": "@jupyter-widgets/base",
          "model_name": "LayoutModel",
          "model_module_version": "1.2.0",
          "state": {
            "_model_module": "@jupyter-widgets/base",
            "_model_module_version": "1.2.0",
            "_model_name": "LayoutModel",
            "_view_count": null,
            "_view_module": "@jupyter-widgets/base",
            "_view_module_version": "1.2.0",
            "_view_name": "LayoutView",
            "align_content": null,
            "align_items": null,
            "align_self": null,
            "border": null,
            "bottom": null,
            "display": null,
            "flex": null,
            "flex_flow": null,
            "grid_area": null,
            "grid_auto_columns": null,
            "grid_auto_flow": null,
            "grid_auto_rows": null,
            "grid_column": null,
            "grid_gap": null,
            "grid_row": null,
            "grid_template_areas": null,
            "grid_template_columns": null,
            "grid_template_rows": null,
            "height": null,
            "justify_content": null,
            "justify_items": null,
            "left": null,
            "margin": null,
            "max_height": null,
            "max_width": null,
            "min_height": null,
            "min_width": null,
            "object_fit": null,
            "object_position": null,
            "order": null,
            "overflow": null,
            "overflow_x": null,
            "overflow_y": null,
            "padding": null,
            "right": null,
            "top": null,
            "visibility": null,
            "width": null
          }
        },
        "32fa6b70c0184aaa8cbbf927bfd462ef": {
          "model_module": "@jupyter-widgets/controls",
          "model_name": "ProgressStyleModel",
          "model_module_version": "1.5.0",
          "state": {
            "_model_module": "@jupyter-widgets/controls",
            "_model_module_version": "1.5.0",
            "_model_name": "ProgressStyleModel",
            "_view_count": null,
            "_view_module": "@jupyter-widgets/base",
            "_view_module_version": "1.2.0",
            "_view_name": "StyleView",
            "bar_color": null,
            "description_width": ""
          }
        },
        "6e41c0e20f6244caaa6ea0477dc0786f": {
          "model_module": "@jupyter-widgets/base",
          "model_name": "LayoutModel",
          "model_module_version": "1.2.0",
          "state": {
            "_model_module": "@jupyter-widgets/base",
            "_model_module_version": "1.2.0",
            "_model_name": "LayoutModel",
            "_view_count": null,
            "_view_module": "@jupyter-widgets/base",
            "_view_module_version": "1.2.0",
            "_view_name": "LayoutView",
            "align_content": null,
            "align_items": null,
            "align_self": null,
            "border": null,
            "bottom": null,
            "display": null,
            "flex": null,
            "flex_flow": null,
            "grid_area": null,
            "grid_auto_columns": null,
            "grid_auto_flow": null,
            "grid_auto_rows": null,
            "grid_column": null,
            "grid_gap": null,
            "grid_row": null,
            "grid_template_areas": null,
            "grid_template_columns": null,
            "grid_template_rows": null,
            "height": null,
            "justify_content": null,
            "justify_items": null,
            "left": null,
            "margin": null,
            "max_height": null,
            "max_width": null,
            "min_height": null,
            "min_width": null,
            "object_fit": null,
            "object_position": null,
            "order": null,
            "overflow": null,
            "overflow_x": null,
            "overflow_y": null,
            "padding": null,
            "right": null,
            "top": null,
            "visibility": null,
            "width": null
          }
        },
        "deb022fd23ba43409295921853f7f751": {
          "model_module": "@jupyter-widgets/controls",
          "model_name": "DescriptionStyleModel",
          "model_module_version": "1.5.0",
          "state": {
            "_model_module": "@jupyter-widgets/controls",
            "_model_module_version": "1.5.0",
            "_model_name": "DescriptionStyleModel",
            "_view_count": null,
            "_view_module": "@jupyter-widgets/base",
            "_view_module_version": "1.2.0",
            "_view_name": "StyleView",
            "description_width": ""
          }
        },
        "e915e93c8e4547dc9ffe982ede0a6082": {
          "model_module": "@jupyter-widgets/controls",
          "model_name": "HBoxModel",
          "model_module_version": "1.5.0",
          "state": {
            "_dom_classes": [],
            "_model_module": "@jupyter-widgets/controls",
            "_model_module_version": "1.5.0",
            "_model_name": "HBoxModel",
            "_view_count": null,
            "_view_module": "@jupyter-widgets/controls",
            "_view_module_version": "1.5.0",
            "_view_name": "HBoxView",
            "box_style": "",
            "children": [
              "IPY_MODEL_a97ca9606ece47e0994f49dc01ddee29",
              "IPY_MODEL_17fed615171540f2bd52364c8adf8f7d",
              "IPY_MODEL_052b20be1305465189cea4d89493414b"
            ],
            "layout": "IPY_MODEL_4885043a31974288b8876a6f74dfb0bb"
          }
        },
        "a97ca9606ece47e0994f49dc01ddee29": {
          "model_module": "@jupyter-widgets/controls",
          "model_name": "HTMLModel",
          "model_module_version": "1.5.0",
          "state": {
            "_dom_classes": [],
            "_model_module": "@jupyter-widgets/controls",
            "_model_module_version": "1.5.0",
            "_model_name": "HTMLModel",
            "_view_count": null,
            "_view_module": "@jupyter-widgets/controls",
            "_view_module_version": "1.5.0",
            "_view_name": "HTMLView",
            "description": "",
            "description_tooltip": null,
            "layout": "IPY_MODEL_9c104c9a32924887891d278a08487943",
            "placeholder": "​",
            "style": "IPY_MODEL_8f76aee0215d42109d292b4bac598e28",
            "value": "Downloading (…)cial_tokens_map.json: 100%"
          }
        },
        "17fed615171540f2bd52364c8adf8f7d": {
          "model_module": "@jupyter-widgets/controls",
          "model_name": "FloatProgressModel",
          "model_module_version": "1.5.0",
          "state": {
            "_dom_classes": [],
            "_model_module": "@jupyter-widgets/controls",
            "_model_module_version": "1.5.0",
            "_model_name": "FloatProgressModel",
            "_view_count": null,
            "_view_module": "@jupyter-widgets/controls",
            "_view_module_version": "1.5.0",
            "_view_name": "ProgressView",
            "bar_style": "success",
            "description": "",
            "description_tooltip": null,
            "layout": "IPY_MODEL_e0b0ea99aeed4165ab86bbc14c6b9de0",
            "max": 303,
            "min": 0,
            "orientation": "horizontal",
            "style": "IPY_MODEL_983e252bf118401c83a4a7e44fb8c558",
            "value": 303
          }
        },
        "052b20be1305465189cea4d89493414b": {
          "model_module": "@jupyter-widgets/controls",
          "model_name": "HTMLModel",
          "model_module_version": "1.5.0",
          "state": {
            "_dom_classes": [],
            "_model_module": "@jupyter-widgets/controls",
            "_model_module_version": "1.5.0",
            "_model_name": "HTMLModel",
            "_view_count": null,
            "_view_module": "@jupyter-widgets/controls",
            "_view_module_version": "1.5.0",
            "_view_name": "HTMLView",
            "description": "",
            "description_tooltip": null,
            "layout": "IPY_MODEL_f178754e4de54f59b009d76b8b02f0c4",
            "placeholder": "​",
            "style": "IPY_MODEL_157ecde1718a40ae942fd9786353e58a",
            "value": " 303/303 [00:00&lt;00:00, 29.6kB/s]"
          }
        },
        "4885043a31974288b8876a6f74dfb0bb": {
          "model_module": "@jupyter-widgets/base",
          "model_name": "LayoutModel",
          "model_module_version": "1.2.0",
          "state": {
            "_model_module": "@jupyter-widgets/base",
            "_model_module_version": "1.2.0",
            "_model_name": "LayoutModel",
            "_view_count": null,
            "_view_module": "@jupyter-widgets/base",
            "_view_module_version": "1.2.0",
            "_view_name": "LayoutView",
            "align_content": null,
            "align_items": null,
            "align_self": null,
            "border": null,
            "bottom": null,
            "display": null,
            "flex": null,
            "flex_flow": null,
            "grid_area": null,
            "grid_auto_columns": null,
            "grid_auto_flow": null,
            "grid_auto_rows": null,
            "grid_column": null,
            "grid_gap": null,
            "grid_row": null,
            "grid_template_areas": null,
            "grid_template_columns": null,
            "grid_template_rows": null,
            "height": null,
            "justify_content": null,
            "justify_items": null,
            "left": null,
            "margin": null,
            "max_height": null,
            "max_width": null,
            "min_height": null,
            "min_width": null,
            "object_fit": null,
            "object_position": null,
            "order": null,
            "overflow": null,
            "overflow_x": null,
            "overflow_y": null,
            "padding": null,
            "right": null,
            "top": null,
            "visibility": null,
            "width": null
          }
        },
        "9c104c9a32924887891d278a08487943": {
          "model_module": "@jupyter-widgets/base",
          "model_name": "LayoutModel",
          "model_module_version": "1.2.0",
          "state": {
            "_model_module": "@jupyter-widgets/base",
            "_model_module_version": "1.2.0",
            "_model_name": "LayoutModel",
            "_view_count": null,
            "_view_module": "@jupyter-widgets/base",
            "_view_module_version": "1.2.0",
            "_view_name": "LayoutView",
            "align_content": null,
            "align_items": null,
            "align_self": null,
            "border": null,
            "bottom": null,
            "display": null,
            "flex": null,
            "flex_flow": null,
            "grid_area": null,
            "grid_auto_columns": null,
            "grid_auto_flow": null,
            "grid_auto_rows": null,
            "grid_column": null,
            "grid_gap": null,
            "grid_row": null,
            "grid_template_areas": null,
            "grid_template_columns": null,
            "grid_template_rows": null,
            "height": null,
            "justify_content": null,
            "justify_items": null,
            "left": null,
            "margin": null,
            "max_height": null,
            "max_width": null,
            "min_height": null,
            "min_width": null,
            "object_fit": null,
            "object_position": null,
            "order": null,
            "overflow": null,
            "overflow_x": null,
            "overflow_y": null,
            "padding": null,
            "right": null,
            "top": null,
            "visibility": null,
            "width": null
          }
        },
        "8f76aee0215d42109d292b4bac598e28": {
          "model_module": "@jupyter-widgets/controls",
          "model_name": "DescriptionStyleModel",
          "model_module_version": "1.5.0",
          "state": {
            "_model_module": "@jupyter-widgets/controls",
            "_model_module_version": "1.5.0",
            "_model_name": "DescriptionStyleModel",
            "_view_count": null,
            "_view_module": "@jupyter-widgets/base",
            "_view_module_version": "1.2.0",
            "_view_name": "StyleView",
            "description_width": ""
          }
        },
        "e0b0ea99aeed4165ab86bbc14c6b9de0": {
          "model_module": "@jupyter-widgets/base",
          "model_name": "LayoutModel",
          "model_module_version": "1.2.0",
          "state": {
            "_model_module": "@jupyter-widgets/base",
            "_model_module_version": "1.2.0",
            "_model_name": "LayoutModel",
            "_view_count": null,
            "_view_module": "@jupyter-widgets/base",
            "_view_module_version": "1.2.0",
            "_view_name": "LayoutView",
            "align_content": null,
            "align_items": null,
            "align_self": null,
            "border": null,
            "bottom": null,
            "display": null,
            "flex": null,
            "flex_flow": null,
            "grid_area": null,
            "grid_auto_columns": null,
            "grid_auto_flow": null,
            "grid_auto_rows": null,
            "grid_column": null,
            "grid_gap": null,
            "grid_row": null,
            "grid_template_areas": null,
            "grid_template_columns": null,
            "grid_template_rows": null,
            "height": null,
            "justify_content": null,
            "justify_items": null,
            "left": null,
            "margin": null,
            "max_height": null,
            "max_width": null,
            "min_height": null,
            "min_width": null,
            "object_fit": null,
            "object_position": null,
            "order": null,
            "overflow": null,
            "overflow_x": null,
            "overflow_y": null,
            "padding": null,
            "right": null,
            "top": null,
            "visibility": null,
            "width": null
          }
        },
        "983e252bf118401c83a4a7e44fb8c558": {
          "model_module": "@jupyter-widgets/controls",
          "model_name": "ProgressStyleModel",
          "model_module_version": "1.5.0",
          "state": {
            "_model_module": "@jupyter-widgets/controls",
            "_model_module_version": "1.5.0",
            "_model_name": "ProgressStyleModel",
            "_view_count": null,
            "_view_module": "@jupyter-widgets/base",
            "_view_module_version": "1.2.0",
            "_view_name": "StyleView",
            "bar_color": null,
            "description_width": ""
          }
        },
        "f178754e4de54f59b009d76b8b02f0c4": {
          "model_module": "@jupyter-widgets/base",
          "model_name": "LayoutModel",
          "model_module_version": "1.2.0",
          "state": {
            "_model_module": "@jupyter-widgets/base",
            "_model_module_version": "1.2.0",
            "_model_name": "LayoutModel",
            "_view_count": null,
            "_view_module": "@jupyter-widgets/base",
            "_view_module_version": "1.2.0",
            "_view_name": "LayoutView",
            "align_content": null,
            "align_items": null,
            "align_self": null,
            "border": null,
            "bottom": null,
            "display": null,
            "flex": null,
            "flex_flow": null,
            "grid_area": null,
            "grid_auto_columns": null,
            "grid_auto_flow": null,
            "grid_auto_rows": null,
            "grid_column": null,
            "grid_gap": null,
            "grid_row": null,
            "grid_template_areas": null,
            "grid_template_columns": null,
            "grid_template_rows": null,
            "height": null,
            "justify_content": null,
            "justify_items": null,
            "left": null,
            "margin": null,
            "max_height": null,
            "max_width": null,
            "min_height": null,
            "min_width": null,
            "object_fit": null,
            "object_position": null,
            "order": null,
            "overflow": null,
            "overflow_x": null,
            "overflow_y": null,
            "padding": null,
            "right": null,
            "top": null,
            "visibility": null,
            "width": null
          }
        },
        "157ecde1718a40ae942fd9786353e58a": {
          "model_module": "@jupyter-widgets/controls",
          "model_name": "DescriptionStyleModel",
          "model_module_version": "1.5.0",
          "state": {
            "_model_module": "@jupyter-widgets/controls",
            "_model_module_version": "1.5.0",
            "_model_name": "DescriptionStyleModel",
            "_view_count": null,
            "_view_module": "@jupyter-widgets/base",
            "_view_module_version": "1.2.0",
            "_view_name": "StyleView",
            "description_width": ""
          }
        },
        "2a380218efbb4bc29e44c0bcf74c378e": {
          "model_module": "@jupyter-widgets/controls",
          "model_name": "GridBoxModel",
          "model_module_version": "1.5.0",
          "state": {
            "_dom_classes": [],
            "_model_module": "@jupyter-widgets/controls",
            "_model_module_version": "1.5.0",
            "_model_name": "GridBoxModel",
            "_view_count": null,
            "_view_module": "@jupyter-widgets/controls",
            "_view_module_version": "1.5.0",
            "_view_name": "GridBoxView",
            "box_style": "",
            "children": [
              "IPY_MODEL_632e68b48bf44beba445f9740c6510b6",
              "IPY_MODEL_0075fa9d47dd4ff2a91a7d76851cf43f",
              "IPY_MODEL_6f3ba7b464ef4246903e6de09cfd5f33",
              "IPY_MODEL_a30b9bca0f9c48b49b2385b3c3f21d7b"
            ],
            "layout": "IPY_MODEL_8b2d37d376c94cfe862e3991026a0c56"
          }
        },
        "632e68b48bf44beba445f9740c6510b6": {
          "model_module": "@jupyter-widgets/controls",
          "model_name": "ButtonModel",
          "model_module_version": "1.5.0",
          "state": {
            "_dom_classes": [],
            "_model_module": "@jupyter-widgets/controls",
            "_model_module_version": "1.5.0",
            "_model_name": "ButtonModel",
            "_view_count": null,
            "_view_module": "@jupyter-widgets/controls",
            "_view_module_version": "1.5.0",
            "_view_name": "ButtonView",
            "button_style": "warning",
            "description": "Clear Memory",
            "disabled": false,
            "icon": "",
            "layout": "IPY_MODEL_e1ad617dd8ee4141ada5c61db61d0c5c",
            "style": "IPY_MODEL_0c79917410a64df5a2123f818e2512d8",
            "tooltip": ""
          }
        },
        "0075fa9d47dd4ff2a91a7d76851cf43f": {
          "model_module": "@jupyter-widgets/controls",
          "model_name": "TextareaModel",
          "model_module_version": "1.5.0",
          "state": {
            "_dom_classes": [],
            "_model_module": "@jupyter-widgets/controls",
            "_model_module_version": "1.5.0",
            "_model_name": "TextareaModel",
            "_view_count": null,
            "_view_module": "@jupyter-widgets/controls",
            "_view_module_version": "1.5.0",
            "_view_name": "TextareaView",
            "continuous_update": true,
            "description": "",
            "description_tooltip": null,
            "disabled": false,
            "layout": "IPY_MODEL_1718f5ea8db74deeb4cbf35303fb6047",
            "placeholder": "Type your prompt here",
            "rows": null,
            "style": "IPY_MODEL_810af50410e34f3680fbbb5230605b67",
            "value": ""
          }
        },
        "6f3ba7b464ef4246903e6de09cfd5f33": {
          "model_module": "@jupyter-widgets/controls",
          "model_name": "ButtonModel",
          "model_module_version": "1.5.0",
          "state": {
            "_dom_classes": [],
            "_model_module": "@jupyter-widgets/controls",
            "_model_module_version": "1.5.0",
            "_model_name": "ButtonModel",
            "_view_count": null,
            "_view_module": "@jupyter-widgets/controls",
            "_view_module_version": "1.5.0",
            "_view_name": "ButtonView",
            "button_style": "success",
            "description": "Submit",
            "disabled": false,
            "icon": "",
            "layout": "IPY_MODEL_7398c97f6b2f4a489360566cc5d221d0",
            "style": "IPY_MODEL_3d560b7061864e2e9bc3431c2bd0bfa1",
            "tooltip": ""
          }
        },
        "a30b9bca0f9c48b49b2385b3c3f21d7b": {
          "model_module": "@jupyter-widgets/controls",
          "model_name": "ButtonModel",
          "model_module_version": "1.5.0",
          "state": {
            "_dom_classes": [],
            "_model_module": "@jupyter-widgets/controls",
            "_model_module_version": "1.5.0",
            "_model_name": "ButtonModel",
            "_view_count": null,
            "_view_module": "@jupyter-widgets/controls",
            "_view_module_version": "1.5.0",
            "_view_name": "ButtonView",
            "button_style": "info",
            "description": "Show Memory",
            "disabled": false,
            "icon": "",
            "layout": "IPY_MODEL_f3e7c79a73f246ab826b0e75285c0249",
            "style": "IPY_MODEL_a52a287411164881a048d002d109ef00",
            "tooltip": ""
          }
        },
        "8b2d37d376c94cfe862e3991026a0c56": {
          "model_module": "@jupyter-widgets/base",
          "model_name": "LayoutModel",
          "model_module_version": "1.2.0",
          "state": {
            "_model_module": "@jupyter-widgets/base",
            "_model_module_version": "1.2.0",
            "_model_name": "LayoutModel",
            "_view_count": null,
            "_view_module": "@jupyter-widgets/base",
            "_view_module_version": "1.2.0",
            "_view_name": "LayoutView",
            "align_content": null,
            "align_items": null,
            "align_self": null,
            "border": null,
            "bottom": null,
            "display": null,
            "flex": null,
            "flex_flow": null,
            "grid_area": null,
            "grid_auto_columns": null,
            "grid_auto_flow": null,
            "grid_auto_rows": null,
            "grid_column": null,
            "grid_gap": "10px",
            "grid_row": null,
            "grid_template_areas": "\"widget002 widget002 widget001\"\n\"widget002 widget002 widget004\"\n\"widget003 widget003 widget003\"",
            "grid_template_columns": "repeat(3, 1fr)",
            "grid_template_rows": "repeat(3, 1fr)",
            "height": "200px",
            "justify_content": null,
            "justify_items": null,
            "left": null,
            "margin": null,
            "max_height": null,
            "max_width": null,
            "min_height": null,
            "min_width": null,
            "object_fit": null,
            "object_position": null,
            "order": null,
            "overflow": null,
            "overflow_x": null,
            "overflow_y": null,
            "padding": null,
            "right": null,
            "top": null,
            "visibility": null,
            "width": "800px"
          }
        },
        "e1ad617dd8ee4141ada5c61db61d0c5c": {
          "model_module": "@jupyter-widgets/base",
          "model_name": "LayoutModel",
          "model_module_version": "1.2.0",
          "state": {
            "_model_module": "@jupyter-widgets/base",
            "_model_module_version": "1.2.0",
            "_model_name": "LayoutModel",
            "_view_count": null,
            "_view_module": "@jupyter-widgets/base",
            "_view_module_version": "1.2.0",
            "_view_name": "LayoutView",
            "align_content": null,
            "align_items": null,
            "align_self": null,
            "border": null,
            "bottom": null,
            "display": null,
            "flex": null,
            "flex_flow": null,
            "grid_area": "widget001",
            "grid_auto_columns": null,
            "grid_auto_flow": null,
            "grid_auto_rows": null,
            "grid_column": null,
            "grid_gap": null,
            "grid_row": null,
            "grid_template_areas": null,
            "grid_template_columns": null,
            "grid_template_rows": null,
            "height": "100%",
            "justify_content": null,
            "justify_items": null,
            "left": null,
            "margin": null,
            "max_height": null,
            "max_width": null,
            "min_height": null,
            "min_width": null,
            "object_fit": null,
            "object_position": null,
            "order": null,
            "overflow": null,
            "overflow_x": null,
            "overflow_y": null,
            "padding": null,
            "right": null,
            "top": null,
            "visibility": null,
            "width": "100%"
          }
        },
        "0c79917410a64df5a2123f818e2512d8": {
          "model_module": "@jupyter-widgets/controls",
          "model_name": "ButtonStyleModel",
          "model_module_version": "1.5.0",
          "state": {
            "_model_module": "@jupyter-widgets/controls",
            "_model_module_version": "1.5.0",
            "_model_name": "ButtonStyleModel",
            "_view_count": null,
            "_view_module": "@jupyter-widgets/base",
            "_view_module_version": "1.2.0",
            "_view_name": "StyleView",
            "button_color": null,
            "font_weight": ""
          }
        },
        "1718f5ea8db74deeb4cbf35303fb6047": {
          "model_module": "@jupyter-widgets/base",
          "model_name": "LayoutModel",
          "model_module_version": "1.2.0",
          "state": {
            "_model_module": "@jupyter-widgets/base",
            "_model_module_version": "1.2.0",
            "_model_name": "LayoutModel",
            "_view_count": null,
            "_view_module": "@jupyter-widgets/base",
            "_view_module_version": "1.2.0",
            "_view_name": "LayoutView",
            "align_content": null,
            "align_items": null,
            "align_self": null,
            "border": null,
            "bottom": null,
            "display": null,
            "flex": null,
            "flex_flow": null,
            "grid_area": "widget002",
            "grid_auto_columns": null,
            "grid_auto_flow": null,
            "grid_auto_rows": null,
            "grid_column": null,
            "grid_gap": null,
            "grid_row": null,
            "grid_template_areas": null,
            "grid_template_columns": null,
            "grid_template_rows": null,
            "height": "100%",
            "justify_content": null,
            "justify_items": null,
            "left": null,
            "margin": null,
            "max_height": null,
            "max_width": null,
            "min_height": null,
            "min_width": null,
            "object_fit": null,
            "object_position": null,
            "order": null,
            "overflow": null,
            "overflow_x": null,
            "overflow_y": null,
            "padding": null,
            "right": null,
            "top": null,
            "visibility": null,
            "width": "100%"
          }
        },
        "810af50410e34f3680fbbb5230605b67": {
          "model_module": "@jupyter-widgets/controls",
          "model_name": "DescriptionStyleModel",
          "model_module_version": "1.5.0",
          "state": {
            "_model_module": "@jupyter-widgets/controls",
            "_model_module_version": "1.5.0",
            "_model_name": "DescriptionStyleModel",
            "_view_count": null,
            "_view_module": "@jupyter-widgets/base",
            "_view_module_version": "1.2.0",
            "_view_name": "StyleView",
            "description_width": "initial"
          }
        },
        "7398c97f6b2f4a489360566cc5d221d0": {
          "model_module": "@jupyter-widgets/base",
          "model_name": "LayoutModel",
          "model_module_version": "1.2.0",
          "state": {
            "_model_module": "@jupyter-widgets/base",
            "_model_module_version": "1.2.0",
            "_model_name": "LayoutModel",
            "_view_count": null,
            "_view_module": "@jupyter-widgets/base",
            "_view_module_version": "1.2.0",
            "_view_name": "LayoutView",
            "align_content": null,
            "align_items": null,
            "align_self": null,
            "border": null,
            "bottom": null,
            "display": null,
            "flex": null,
            "flex_flow": null,
            "grid_area": "widget003",
            "grid_auto_columns": null,
            "grid_auto_flow": null,
            "grid_auto_rows": null,
            "grid_column": null,
            "grid_gap": null,
            "grid_row": null,
            "grid_template_areas": null,
            "grid_template_columns": null,
            "grid_template_rows": null,
            "height": "80%",
            "justify_content": null,
            "justify_items": null,
            "left": null,
            "margin": null,
            "max_height": null,
            "max_width": null,
            "min_height": null,
            "min_width": null,
            "object_fit": null,
            "object_position": null,
            "order": null,
            "overflow": null,
            "overflow_x": null,
            "overflow_y": null,
            "padding": null,
            "right": null,
            "top": null,
            "visibility": null,
            "width": "100%"
          }
        },
        "3d560b7061864e2e9bc3431c2bd0bfa1": {
          "model_module": "@jupyter-widgets/controls",
          "model_name": "ButtonStyleModel",
          "model_module_version": "1.5.0",
          "state": {
            "_model_module": "@jupyter-widgets/controls",
            "_model_module_version": "1.5.0",
            "_model_name": "ButtonStyleModel",
            "_view_count": null,
            "_view_module": "@jupyter-widgets/base",
            "_view_module_version": "1.2.0",
            "_view_name": "StyleView",
            "button_color": null,
            "font_weight": ""
          }
        },
        "f3e7c79a73f246ab826b0e75285c0249": {
          "model_module": "@jupyter-widgets/base",
          "model_name": "LayoutModel",
          "model_module_version": "1.2.0",
          "state": {
            "_model_module": "@jupyter-widgets/base",
            "_model_module_version": "1.2.0",
            "_model_name": "LayoutModel",
            "_view_count": null,
            "_view_module": "@jupyter-widgets/base",
            "_view_module_version": "1.2.0",
            "_view_name": "LayoutView",
            "align_content": null,
            "align_items": null,
            "align_self": null,
            "border": null,
            "bottom": null,
            "display": null,
            "flex": null,
            "flex_flow": null,
            "grid_area": "widget004",
            "grid_auto_columns": null,
            "grid_auto_flow": null,
            "grid_auto_rows": null,
            "grid_column": null,
            "grid_gap": null,
            "grid_row": null,
            "grid_template_areas": null,
            "grid_template_columns": null,
            "grid_template_rows": null,
            "height": "100%",
            "justify_content": null,
            "justify_items": null,
            "left": null,
            "margin": null,
            "max_height": null,
            "max_width": null,
            "min_height": null,
            "min_width": null,
            "object_fit": null,
            "object_position": null,
            "order": null,
            "overflow": null,
            "overflow_x": null,
            "overflow_y": null,
            "padding": null,
            "right": null,
            "top": null,
            "visibility": null,
            "width": "100%"
          }
        },
        "a52a287411164881a048d002d109ef00": {
          "model_module": "@jupyter-widgets/controls",
          "model_name": "ButtonStyleModel",
          "model_module_version": "1.5.0",
          "state": {
            "_model_module": "@jupyter-widgets/controls",
            "_model_module_version": "1.5.0",
            "_model_name": "ButtonStyleModel",
            "_view_count": null,
            "_view_module": "@jupyter-widgets/base",
            "_view_module_version": "1.2.0",
            "_view_name": "StyleView",
            "button_color": null,
            "font_weight": ""
          }
        }
      }
    }
  },
  "cells": [
    {
      "cell_type": "markdown",
      "metadata": {
        "id": "view-in-github",
        "colab_type": "text"
      },
      "source": [
        "<a href=\"https://colab.research.google.com/github/kynthesis/HaystackResearch/blob/main/8_Conversational_Agent.ipynb\" target=\"_parent\"><img src=\"https://colab.research.google.com/assets/colab-badge.svg\" alt=\"Open In Colab\"/></a>"
      ]
    },
    {
      "cell_type": "markdown",
      "source": [
        "# **Cách xây dựng một chatbot sử dụng Agent**\n",
        "\n"
      ],
      "metadata": {
        "id": "Vi_AQBc6w6Hs"
      }
    },
    {
      "cell_type": "markdown",
      "source": [
        "# 1. Kiểm tra GPU runtime"
      ],
      "metadata": {
        "id": "iEFsUL7Sxtod"
      }
    },
    {
      "cell_type": "code",
      "source": [
        "%%bash\n",
        "\n",
        "nvidia-smi"
      ],
      "metadata": {
        "id": "mTrKXG7UwzG3",
        "colab": {
          "base_uri": "https://localhost:8080/"
        },
        "outputId": "16d21dba-0ab0-4f4f-f1c6-bc58850afcc5"
      },
      "execution_count": 1,
      "outputs": [
        {
          "output_type": "stream",
          "name": "stdout",
          "text": [
            "Sun Jul  2 12:54:05 2023       \n",
            "+-----------------------------------------------------------------------------+\n",
            "| NVIDIA-SMI 525.85.12    Driver Version: 525.85.12    CUDA Version: 12.0     |\n",
            "|-------------------------------+----------------------+----------------------+\n",
            "| GPU  Name        Persistence-M| Bus-Id        Disp.A | Volatile Uncorr. ECC |\n",
            "| Fan  Temp  Perf  Pwr:Usage/Cap|         Memory-Usage | GPU-Util  Compute M. |\n",
            "|                               |                      |               MIG M. |\n",
            "|===============================+======================+======================|\n",
            "|   0  NVIDIA A100-SXM...  Off  | 00000000:00:04.0 Off |                    0 |\n",
            "| N/A   34C    P0    44W / 400W |      0MiB / 40960MiB |      0%      Default |\n",
            "|                               |                      |             Disabled |\n",
            "+-------------------------------+----------------------+----------------------+\n",
            "                                                                               \n",
            "+-----------------------------------------------------------------------------+\n",
            "| Processes:                                                                  |\n",
            "|  GPU   GI   CI        PID   Type   Process name                  GPU Memory |\n",
            "|        ID   ID                                                   Usage      |\n",
            "|=============================================================================|\n",
            "|  No running processes found                                                 |\n",
            "+-----------------------------------------------------------------------------+\n"
          ]
        }
      ]
    },
    {
      "cell_type": "markdown",
      "source": [
        "# 2. Cài đặt Haystack"
      ],
      "metadata": {
        "id": "LBWuvEfuyvMX"
      }
    },
    {
      "cell_type": "code",
      "source": [
        "%%bash\n",
        "\n",
        "pip install --upgrade pip\n",
        "pip install farm-haystack[colab]"
      ],
      "metadata": {
        "id": "6QHyzFjPytv_"
      },
      "execution_count": null,
      "outputs": []
    },
    {
      "cell_type": "markdown",
      "source": [
        "# 3. Bật chế độ logging"
      ],
      "metadata": {
        "id": "iFflilAUxnVa"
      }
    },
    {
      "cell_type": "code",
      "source": [
        "import logging\n",
        "\n",
        "logging.basicConfig(format=\"%(levelname)s - %(name)s -  %(message)s\", level=logging.WARNING)\n",
        "logging.getLogger(\"haystack\").setLevel(logging.INFO)"
      ],
      "metadata": {
        "id": "q7H01nihxLo0"
      },
      "execution_count": 3,
      "outputs": []
    },
    {
      "cell_type": "markdown",
      "source": [
        "# 4. Sử dụng API HuggingFace"
      ],
      "metadata": {
        "id": "iyaVlHJoyoGz"
      }
    },
    {
      "cell_type": "code",
      "source": [
        "from getpass import getpass\n",
        "\n",
        "model_api_key = getpass(\"Enter model provider API key:\")"
      ],
      "metadata": {
        "colab": {
          "base_uri": "https://localhost:8080/"
        },
        "id": "8nCeKRAWrEwv",
        "outputId": "f6a95143-9c5a-4f1b-a169-d9486d077d37"
      },
      "execution_count": 4,
      "outputs": [
        {
          "name": "stdout",
          "output_type": "stream",
          "text": [
            "Enter model provider API key:··········\n"
          ]
        }
      ]
    },
    {
      "cell_type": "markdown",
      "source": [
        "# 5. Khởi tạo Prompt"
      ],
      "metadata": {
        "id": "bM_NXcZVrIKY"
      }
    },
    {
      "cell_type": "code",
      "source": [
        "from haystack.nodes import PromptNode\n",
        "\n",
        "model_name = \"OpenAssistant/oasst-sft-1-pythia-12b\"\n",
        "prompt_node = PromptNode(model_name, api_key=model_api_key, max_length=256)"
      ],
      "metadata": {
        "colab": {
          "base_uri": "https://localhost:8080/",
          "height": 234,
          "referenced_widgets": [
            "df5dd8922a9e4f29b0a7e51dd9e257e6",
            "3ae51a6d393e40e295aefff578834473",
            "16fdb98ab89a41f5ba1eb5cbe345491f",
            "4b647c192b3d48f0b38b451e8e0f506d",
            "aa83c6ba898b484aa6db6e18273584eb",
            "b4adcdad1c804073913dfe9af4b4ac5c",
            "61ddc8fe8f24410b80c5fe58f6af0dd4",
            "20028076b0324eb3b86f8211425853a5",
            "12da6e162e9745c987f5ce9575bc8aee",
            "101726a1d031423f82c0cd1102dcfc27",
            "669e7051b4ba4edfb64c7290a5ba94f5",
            "7630f09a14ad4a5389810bb2dde2975b",
            "bf4758e3b0f54c878c6bbe85a4b00c1f",
            "7cc3301adbd74dc5ad2d6efc1a9f394a",
            "96cb0369a2cb4bd88bcfda65e08fe4c3",
            "b4e5b5529ec443af8fbe33c47f184f43",
            "7fed91ecebce4c3b926fd9aa5120535c",
            "e0bf5041949c4f1baea689e215c1aeb9",
            "deb6571e3d374d4690da631b81b9e383",
            "32fa6b70c0184aaa8cbbf927bfd462ef",
            "6e41c0e20f6244caaa6ea0477dc0786f",
            "deb022fd23ba43409295921853f7f751",
            "e915e93c8e4547dc9ffe982ede0a6082",
            "a97ca9606ece47e0994f49dc01ddee29",
            "17fed615171540f2bd52364c8adf8f7d",
            "052b20be1305465189cea4d89493414b",
            "4885043a31974288b8876a6f74dfb0bb",
            "9c104c9a32924887891d278a08487943",
            "8f76aee0215d42109d292b4bac598e28",
            "e0b0ea99aeed4165ab86bbc14c6b9de0",
            "983e252bf118401c83a4a7e44fb8c558",
            "f178754e4de54f59b009d76b8b02f0c4",
            "157ecde1718a40ae942fd9786353e58a"
          ]
        },
        "id": "tsCHa6NorITB",
        "outputId": "ae23dc3c-1a41-420c-eb19-fbad67f44dfb"
      },
      "execution_count": 5,
      "outputs": [
        {
          "output_type": "stream",
          "name": "stderr",
          "text": [
            "INFO:haystack.telemetry:Haystack sends anonymous usage data to understand the actual usage and steer dev efforts towards features that are most meaningful to users. You can opt-out at anytime by manually setting the environment variable HAYSTACK_TELEMETRY_ENABLED as described for different operating systems in the [documentation page](https://docs.haystack.deepset.ai/docs/telemetry#how-can-i-opt-out). More information at [Telemetry](https://docs.haystack.deepset.ai/docs/telemetry).\n"
          ]
        },
        {
          "output_type": "display_data",
          "data": {
            "text/plain": [
              "Downloading (…)okenizer_config.json:   0%|          | 0.00/521 [00:00<?, ?B/s]"
            ],
            "application/vnd.jupyter.widget-view+json": {
              "version_major": 2,
              "version_minor": 0,
              "model_id": "df5dd8922a9e4f29b0a7e51dd9e257e6"
            }
          },
          "metadata": {}
        },
        {
          "output_type": "display_data",
          "data": {
            "text/plain": [
              "Downloading (…)/main/tokenizer.json:   0%|          | 0.00/2.11M [00:00<?, ?B/s]"
            ],
            "application/vnd.jupyter.widget-view+json": {
              "version_major": 2,
              "version_minor": 0,
              "model_id": "7630f09a14ad4a5389810bb2dde2975b"
            }
          },
          "metadata": {}
        },
        {
          "output_type": "display_data",
          "data": {
            "text/plain": [
              "Downloading (…)cial_tokens_map.json:   0%|          | 0.00/303 [00:00<?, ?B/s]"
            ],
            "application/vnd.jupyter.widget-view+json": {
              "version_major": 2,
              "version_minor": 0,
              "model_id": "e915e93c8e4547dc9ffe982ede0a6082"
            }
          },
          "metadata": {}
        }
      ]
    },
    {
      "cell_type": "markdown",
      "source": [
        "# 6. Khởi tạo Memory"
      ],
      "metadata": {
        "id": "9Esyz3-8rUOl"
      }
    },
    {
      "cell_type": "code",
      "source": [
        "from haystack.agents.memory import ConversationSummaryMemory\n",
        "\n",
        "summary_memory = ConversationSummaryMemory(prompt_node)"
      ],
      "metadata": {
        "colab": {
          "base_uri": "https://localhost:8080/"
        },
        "id": "acYdMidtrU5d",
        "outputId": "92a19d51-025d-4a01-ca65-9344feae3ecf"
      },
      "execution_count": 6,
      "outputs": [
        {
          "output_type": "stream",
          "name": "stderr",
          "text": [
            "/usr/local/lib/python3.10/dist-packages/haystack/nodes/prompt/prompt_template.py:444: UserWarning: You're using a legacy prompt template 'conversational-summary', we strongly suggest you use prompts from the official Haystack PromptHub: https://prompthub.deepset.ai/\n",
            "  warnings.warn(\n"
          ]
        }
      ]
    },
    {
      "cell_type": "markdown",
      "source": [
        "# 7. Khởi tạo Agent"
      ],
      "metadata": {
        "id": "E-NN5kXhsJxJ"
      }
    },
    {
      "cell_type": "code",
      "source": [
        "from haystack.agents.conversational import ConversationalAgent\n",
        "\n",
        "conversational_agent = ConversationalAgent(prompt_node=prompt_node, memory=summary_memory)"
      ],
      "metadata": {
        "colab": {
          "base_uri": "https://localhost:8080/"
        },
        "id": "iUXB5EvjrmPD",
        "outputId": "92f4d038-b2a0-4e37-894b-b6491e728203"
      },
      "execution_count": 8,
      "outputs": [
        {
          "output_type": "stream",
          "name": "stderr",
          "text": [
            "WARNING:haystack.agents.conversational:ConversationalAgent is created without tools\n",
            "/usr/local/lib/python3.10/dist-packages/haystack/nodes/prompt/prompt_template.py:444: UserWarning: You're using a legacy prompt template 'conversational-agent-without-tools', we strongly suggest you use prompts from the official Haystack PromptHub: https://prompthub.deepset.ai/\n",
            "  warnings.warn(\n"
          ]
        }
      ]
    },
    {
      "cell_type": "markdown",
      "source": [
        "# 8. Thử nghiệm Chatbot"
      ],
      "metadata": {
        "id": "7DK7EludsSdM"
      }
    },
    {
      "cell_type": "code",
      "source": [
        "import ipywidgets as widgets\n",
        "from IPython.display import clear_output\n",
        "\n",
        "## Text Input\n",
        "user_input = widgets.Textarea(\n",
        "    value=\"\",\n",
        "    placeholder=\"Type your prompt here\",\n",
        "    disabled=False,\n",
        "    style={\"description_width\": \"initial\"},\n",
        "    layout=widgets.Layout(width=\"100%\", height=\"100%\"),\n",
        ")\n",
        "\n",
        "## Submit Button\n",
        "submit_button = widgets.Button(\n",
        "    description=\"Submit\", button_style=\"success\", layout=widgets.Layout(width=\"100%\", height=\"80%\")\n",
        ")\n",
        "\n",
        "\n",
        "def on_button_clicked(b):\n",
        "    user_prompt = user_input.value\n",
        "    user_input.value = \"\"\n",
        "    print(\"\\nUser:\\n\", user_prompt)\n",
        "    conversational_agent.run(user_prompt)\n",
        "\n",
        "\n",
        "submit_button.on_click(on_button_clicked)\n",
        "\n",
        "## Show Memory Button\n",
        "memory_button = widgets.Button(\n",
        "    description=\"Show Memory\", button_style=\"info\", layout=widgets.Layout(width=\"100%\", height=\"100%\")\n",
        ")\n",
        "\n",
        "\n",
        "def on_memory_button_clicked(b):\n",
        "    memory = conversational_agent.memory.load()\n",
        "    if len(memory):\n",
        "        print(\"\\nMemory:\\n\", memory)\n",
        "    else:\n",
        "        print(\"Memory is empty\")\n",
        "\n",
        "\n",
        "memory_button.on_click(on_memory_button_clicked)\n",
        "\n",
        "## Clear Memory Button\n",
        "clear_button = widgets.Button(\n",
        "    description=\"Clear Memory\", button_style=\"warning\", layout=widgets.Layout(width=\"100%\", height=\"100%\")\n",
        ")\n",
        "\n",
        "\n",
        "def on_clear_button_button_clicked(b):\n",
        "    conversational_agent.memory.clear()\n",
        "    print(\"\\nMemory is cleared\\n\")\n",
        "\n",
        "\n",
        "clear_button.on_click(on_clear_button_button_clicked)\n",
        "\n",
        "## Layout\n",
        "grid = widgets.GridspecLayout(3, 3, height=\"200px\", width=\"800px\", grid_gap=\"10px\")\n",
        "grid[0, 2] = clear_button\n",
        "grid[0:2, 0:2] = user_input\n",
        "grid[2, 0:] = submit_button\n",
        "grid[1, 2] = memory_button\n",
        "display(grid)"
      ],
      "metadata": {
        "colab": {
          "base_uri": "https://localhost:8080/",
          "height": 758,
          "referenced_widgets": [
            "2a380218efbb4bc29e44c0bcf74c378e",
            "632e68b48bf44beba445f9740c6510b6",
            "0075fa9d47dd4ff2a91a7d76851cf43f",
            "6f3ba7b464ef4246903e6de09cfd5f33",
            "a30b9bca0f9c48b49b2385b3c3f21d7b",
            "8b2d37d376c94cfe862e3991026a0c56",
            "e1ad617dd8ee4141ada5c61db61d0c5c",
            "0c79917410a64df5a2123f818e2512d8",
            "1718f5ea8db74deeb4cbf35303fb6047",
            "810af50410e34f3680fbbb5230605b67",
            "7398c97f6b2f4a489360566cc5d221d0",
            "3d560b7061864e2e9bc3431c2bd0bfa1",
            "f3e7c79a73f246ab826b0e75285c0249",
            "a52a287411164881a048d002d109ef00"
          ]
        },
        "id": "cU2DJGIgrfh6",
        "outputId": "24acda97-e657-4363-d67f-1a9490f62e7a"
      },
      "execution_count": 9,
      "outputs": [
        {
          "output_type": "display_data",
          "data": {
            "text/plain": [
              "GridspecLayout(children=(Button(button_style='warning', description='Clear Memory', layout=Layout(grid_area='w…"
            ],
            "application/vnd.jupyter.widget-view+json": {
              "version_major": 2,
              "version_minor": 0,
              "model_id": "2a380218efbb4bc29e44c0bcf74c378e"
            }
          },
          "metadata": {}
        },
        {
          "output_type": "stream",
          "name": "stdout",
          "text": [
            "\n",
            "User:\n",
            " What is the biggest city in Vietnam\n",
            "\n",
            "Agent conversational-agent-without-tools started with {'query': 'What is the biggest city in Vietnam', 'params': None}\n",
            "\u001b[32mH\u001b[0m\u001b[32manoi\u001b[0m\n",
            "User:\n",
            " Tell me something about that city\n",
            "\n",
            "Agent conversational-agent-without-tools started with {'query': 'Tell me something about that city', 'params': None}\n",
            "\u001b[32mH\u001b[0m\u001b[32manoi\u001b[0m\u001b[32m is\u001b[0m\u001b[32m the\u001b[0m\u001b[32m capital\u001b[0m\u001b[32m and\u001b[0m\u001b[32m largest\u001b[0m\u001b[32m city\u001b[0m\u001b[32m of\u001b[0m\u001b[32m Vietnam\u001b[0m\u001b[32m.\u001b[0m\u001b[32m It\u001b[0m\u001b[32m is\u001b[0m\u001b[32m located\u001b[0m\u001b[32m in\u001b[0m\u001b[32m the\u001b[0m\u001b[32m northern\u001b[0m\u001b[32m part\u001b[0m\u001b[32m of\u001b[0m\u001b[32m the\u001b[0m\u001b[32m country\u001b[0m\u001b[32m,\u001b[0m\u001b[32m on\u001b[0m\u001b[32m the\u001b[0m\u001b[32m banks\u001b[0m\u001b[32m of\u001b[0m\u001b[32m the\u001b[0m\u001b[32m Red\u001b[0m\u001b[32m River\u001b[0m\u001b[32m.\u001b[0m\u001b[32m The\u001b[0m\u001b[32m city\u001b[0m\u001b[32m has\u001b[0m\u001b[32m a\u001b[0m\u001b[32m rich\u001b[0m\u001b[32m history\u001b[0m\u001b[32m,\u001b[0m\u001b[32m dating\u001b[0m\u001b[32m back\u001b[0m\u001b[32m to\u001b[0m\u001b[32m the\u001b[0m\u001b[32m 12\u001b[0m\u001b[32mth\u001b[0m\u001b[32m century\u001b[0m\u001b[32m when\u001b[0m\u001b[32m it\u001b[0m\u001b[32m was\u001b[0m\u001b[32m known\u001b[0m\u001b[32m as\u001b[0m\u001b[32m H\u001b[0m\u001b[32manoi\u001b[0m\u001b[32m.\u001b[0m\u001b[32m It\u001b[0m\u001b[32m was\u001b[0m\u001b[32m the\u001b[0m\u001b[32m seat\u001b[0m\u001b[32m of\u001b[0m\u001b[32m the\u001b[0m\u001b[32m Nguyen\u001b[0m\u001b[32m Dyn\u001b[0m\u001b[32masty\u001b[0m\u001b[32m,\u001b[0m\u001b[32m which\u001b[0m\u001b[32m ruled\u001b[0m\u001b[32m over\u001b[0m\u001b[32m Vietnam\u001b[0m\u001b[32m from\u001b[0m\u001b[32m 18\u001b[0m\u001b[32m02\u001b[0m\u001b[32m to\u001b[0m\u001b[32m 1945\u001b[0m\u001b[32m.\u001b[0m\u001b[32m During\u001b[0m\u001b[32m this\u001b[0m\u001b[32m time\u001b[0m\u001b[32m,\u001b[0m\u001b[32m H\u001b[0m\u001b[32manoi\u001b[0m\u001b[32m became\u001b[0m\u001b[32m an\u001b[0m\u001b[32m important\u001b[0m\u001b[32m cultural\u001b[0m\u001b[32m and\u001b[0m\u001b[32m political\u001b[0m\u001b[32m center\u001b[0m\u001b[32m,\u001b[0m\u001b[32m and\u001b[0m\u001b[32m it\u001b[0m\u001b[32m remains\u001b[0m\u001b[32m a\u001b[0m\u001b[32m major\u001b[0m\u001b[32m hub\u001b[0m\u001b[32m of\u001b[0m\u001b[32m commerce\u001b[0m\u001b[32m and\u001b[0m\u001b[32m industry\u001b[0m\u001b[32m in\u001b[0m\u001b[32m Vietnam\u001b[0m\u001b[32m today\u001b[0m\u001b[32m.\u001b[0m\u001b[32m\n",
            "\u001b[0m\u001b[32m\n",
            "\u001b[0m\u001b[32mH\u001b[0m\u001b[32manoi\u001b[0m\u001b[32m is\u001b[0m\u001b[32m known\u001b[0m\u001b[32m for\u001b[0m\u001b[32m its\u001b[0m\u001b[32m rich\u001b[0m\u001b[32m architecture\u001b[0m\u001b[32m,\u001b[0m\u001b[32m including\u001b[0m\u001b[32m the\u001b[0m\u001b[32m Old\u001b[0m\u001b[32m Quarter\u001b[0m\u001b[32m,\u001b[0m\u001b[32m which\u001b[0m\u001b[32m is\u001b[0m\u001b[32m a\u001b[0m\u001b[32m maze\u001b[0m\u001b[32m of\u001b[0m\u001b[32m narrow\u001b[0m\u001b[32m streets\u001b[0m\u001b[32m and\u001b[0m\u001b[32m historic\u001b[0m\u001b[32m buildings\u001b[0m\u001b[32m.\u001b[0m\u001b[32m The\u001b[0m\u001b[32m city\u001b[0m\u001b[32m is\u001b[0m\u001b[32m also\u001b[0m\u001b[32m home\u001b[0m\u001b[32m to\u001b[0m\u001b[32m many\u001b[0m\u001b[32m museums\u001b[0m\u001b[32m,\u001b[0m\u001b[32m galleries\u001b[0m\u001b[32m,\u001b[0m\u001b[32m and\u001b[0m\u001b[32m cultural\u001b[0m\u001b[32m institutions\u001b[0m\u001b[32m,\u001b[0m\u001b[32m which\u001b[0m\u001b[32m offer\u001b[0m\u001b[32m a\u001b[0m\u001b[32m unique\u001b[0m\u001b[32m insight\u001b[0m\u001b[32m into\u001b[0m\u001b[32m Vietnam\u001b[0m\u001b[32m's\u001b[0m\u001b[32m history\u001b[0m\u001b[32m and\u001b[0m\u001b[32m culture\u001b[0m\u001b[32m.\u001b[0m\u001b[32m\n",
            "\u001b[0m\u001b[32m\n",
            "\u001b[0m\u001b[32mIn\u001b[0m\u001b[32m terms\u001b[0m\u001b[32m of\u001b[0m\u001b[32m food\u001b[0m\u001b[32m,\u001b[0m\u001b[32m H\u001b[0m\u001b[32manoi\u001b[0m\u001b[32m is\u001b[0m\u001b[32m famous\u001b[0m\u001b[32m for\u001b[0m\u001b[32m its\u001b[0m\u001b[32m street\u001b[0m\u001b[32m food\u001b[0m\u001b[32m,\u001b[0m\u001b[32m including\u001b[0m\u001b[32m ph\u001b[0m\u001b[32mo\u001b[0m\u001b[32m,\u001b[0m\u001b[32m a\u001b[0m\u001b[32m traditional\u001b[0m\u001b[32m Vietnamese\u001b[0m\u001b[32m soup\u001b[0m\u001b[32m made\u001b[0m\u001b[32m with\u001b[0m\u001b[32m rice\u001b[0m\u001b[32m noodles\u001b[0m\u001b[32m,\u001b[0m\u001b[32m beef\u001b[0m\u001b[32m,\u001b[0m\u001b[32m and\u001b[0m\u001b[32m herbs\u001b[0m\u001b[32m.\u001b[0m\u001b[32m The\u001b[0m\u001b[32m city\u001b[0m\u001b[32m is\u001b[0m\u001b[32m also\u001b[0m\u001b[32m home\u001b[0m\u001b[32m to\u001b[0m\u001b[32m many\u001b[0m\u001b[32m famous\u001b[0m\u001b[32m restaurants\u001b[0m\u001b[32m,\u001b[0m\u001b[32m where\u001b[0m\u001b[32m din\u001b[0m\u001b[32mers\u001b[0m\u001b[32m can\u001b[0m\u001b[32m enjoy\u001b[0m\u001b[32m a\u001b[0m\u001b[32m range\u001b[0m\u001b[32m of\u001b[0m\u001b[32m cu\u001b[0m\u001b[32mis\u001b[0m\u001b[32mines\u001b[0m\u001b[32m,\u001b[0m\u001b[32m from\u001b[0m\u001b[32m French\u001b[0m\u001b[32m to\u001b[0m\u001b[32m Chinese\u001b[0m\u001b[32m.\u001b[0m\u001b[32m\n",
            "\u001b[0m\u001b[32m\n",
            "\u001b[0m\u001b[32mOverall\u001b[0m\u001b[32m,\u001b[0m\u001b[32m H\u001b[0m\u001b[32manoi\u001b[0m\u001b[32m is\u001b[0m\u001b[32m a\u001b[0m\u001b[32m vibrant\u001b[0m\u001b[32m and\u001b[0m\u001b[32m exciting\u001b[0m\u001b[32m city\u001b[0m\u001b[32m,\u001b[0m\u001b[32m known\u001b[0m\u001b[32m for\u001b[0m\u001b[32m its\u001b[0m\u001b[32m rich\u001b[0m\u001b[32m history\u001b[0m\u001b[32m,\u001b[0m\u001b[32m beautiful\u001b[0m\u001b[32m architecture\u001b[0m\u001b[32m,\u001b[0m\u001b[32m and\u001b[0m\u001b[32m delicious\u001b[0m\u001b[32m food\u001b[0m\u001b[32m.\u001b[0m\n",
            "Memory:\n",
            " \n",
            "Human: What is the biggest city in Vietnam\n",
            "AI: Hanoi\n",
            "Human: Tell me something about that city\n",
            "AI: Hanoi is the capital and largest city of Vietnam. It is located in the northern part of the country, on the banks of the Red River. The city has a rich history, dating back to the 12th century when it was known as Hanoi. It was the seat of the Nguyen Dynasty, which ruled over Vietnam from 1802 to 1945. During this time, Hanoi became an important cultural and political center, and it remains a major hub of commerce and industry in Vietnam today.\n",
            "\n",
            "Hanoi is known for its rich architecture, including the Old Quarter, which is a maze of narrow streets and historic buildings. The city is also home to many museums, galleries, and cultural institutions, which offer a unique insight into Vietnam's history and culture.\n",
            "\n",
            "In terms of food, Hanoi is famous for its street food, including pho, a traditional Vietnamese soup made with rice noodles, beef, and herbs. The city is also home to many famous restaurants, where diners can enjoy a range of cuisines, from French to Chinese.\n",
            "\n",
            "Overall, Hanoi is a vibrant and exciting city, known for its rich history, beautiful architecture, and delicious food.\n",
            "\n"
          ]
        }
      ]
    }
  ]
}